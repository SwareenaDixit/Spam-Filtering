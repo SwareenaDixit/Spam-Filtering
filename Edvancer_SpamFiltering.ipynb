{
  "cells": [
    {
      "cell_type": "markdown",
      "metadata": {
        "id": "view-in-github",
        "colab_type": "text"
      },
      "source": [
        "<a href=\"https://colab.research.google.com/github/SwareenaDixit/Spam-Filtering/blob/main/Edvancer_SpamFiltering.ipynb\" target=\"_parent\"><img src=\"https://colab.research.google.com/assets/colab-badge.svg\" alt=\"Open In Colab\"/></a>"
      ]
    },
    {
      "cell_type": "markdown",
      "source": [
        "# Project 3: Spam Filter for Quora Questions\n",
        "Goal : Build a model for identifying if a question on Quora is \"SPAM\"\n",
        "\n",
        "Data: The dataset contains 1306122 unique questions with their class labels (0-SPAM, 1-NOT SPAM). Nearly 94% of the data is of class NOT SPAM leaving only 6% SPAM data.\n",
        "\n",
        "Train-Validation-Test Split: The data has been split into Train-Validation-Test sets in the ratio 70:15:15, stratified on the class label column.\n",
        "\n",
        "Embeddings: GloVe (Global Vectors for Word Representation) - 200 embedding dimension\n",
        "\n",
        "Model: A convolutional neural network (CNN) model strarting with an input layer, using convolutional layers (with ReLU activation) to extract features, applying batch normalization, max-pooling, and dropout for regularization, and finally, making binary predictions (SPAM and NOT SPAM) using dense layers with a sigmoid activation function.\n",
        "\n"
      ],
      "metadata": {
        "id": "VxziqOQ-S87c"
      }
    },
    {
      "cell_type": "code",
      "execution_count": 62,
      "metadata": {
        "id": "pPGYNGCdeErf"
      },
      "outputs": [],
      "source": [
        "# Import Libraries\n",
        "import pandas as pd\n",
        "import numpy as np\n",
        "\n",
        "from sklearn.model_selection import train_test_split\n",
        "from sklearn.utils import class_weight\n",
        "from sklearn.metrics import precision_score, recall_score, accuracy_score, f1_score\n",
        "\n",
        "from keras.preprocessing.text import Tokenizer\n",
        "from keras.preprocessing.sequence import pad_sequences\n",
        "from keras.utils import to_categorical\n",
        "\n",
        "from keras import Model, regularizers\n",
        "from keras.layers import Embedding, Input, Conv1D, MaxPooling1D, Flatten, Dense, BatchNormalization, Dropout\n",
        "from keras.callbacks import ModelCheckpoint, EarlyStopping\n",
        "from keras.models import load_model\n",
        "from keras.metrics import Precision"
      ]
    },
    {
      "cell_type": "code",
      "source": [
        "# Load Data\n",
        "!wget -O train.csv https://www.dropbox.com/sh/kpf9z73woodfssv/AAAw1_JIzpuVvwteJCma0xMla?dl=0"
      ],
      "metadata": {
        "colab": {
          "base_uri": "https://localhost:8080/"
        },
        "id": "Xn_LsLgiIzM-",
        "outputId": "3d02e1c1-e687-4ab9-a133-5a95597b0423"
      },
      "execution_count": 5,
      "outputs": [
        {
          "output_type": "stream",
          "name": "stdout",
          "text": [
            "--2023-10-27 03:37:34--  https://www.dropbox.com/sh/kpf9z73woodfssv/AAAw1_JIzpuVvwteJCma0xMla?dl=0\n",
            "Resolving www.dropbox.com (www.dropbox.com)... 162.125.4.18, 2620:100:6021:18::a27d:4112\n",
            "Connecting to www.dropbox.com (www.dropbox.com)|162.125.4.18|:443... connected.\n",
            "HTTP request sent, awaiting response... 302 Found\n",
            "Location: /sh/raw/kpf9z73woodfssv/AAAw1_JIzpuVvwteJCma0xMla [following]\n",
            "--2023-10-27 03:37:35--  https://www.dropbox.com/sh/raw/kpf9z73woodfssv/AAAw1_JIzpuVvwteJCma0xMla\n",
            "Reusing existing connection to www.dropbox.com:443.\n",
            "HTTP request sent, awaiting response... 302 Found\n",
            "Location: https://uc1c65390626196a59c5ef4de149.dl.dropboxusercontent.com/zip_download_get/BpyQRCxly-fnz3R6PJaOYboSlm5JWaBtuH0H1cBAV5-O2G9OyjWDPncsnJvdwYMg4hxJDOPpAftBQdV8gjyMIzRgitVx9WLV-LnKrSXyiLSJoQ# [following]\n",
            "--2023-10-27 03:37:35--  https://uc1c65390626196a59c5ef4de149.dl.dropboxusercontent.com/zip_download_get/BpyQRCxly-fnz3R6PJaOYboSlm5JWaBtuH0H1cBAV5-O2G9OyjWDPncsnJvdwYMg4hxJDOPpAftBQdV8gjyMIzRgitVx9WLV-LnKrSXyiLSJoQ\n",
            "Resolving uc1c65390626196a59c5ef4de149.dl.dropboxusercontent.com (uc1c65390626196a59c5ef4de149.dl.dropboxusercontent.com)... 162.125.65.15, 2620:100:6021:15::a27d:410f\n",
            "Connecting to uc1c65390626196a59c5ef4de149.dl.dropboxusercontent.com (uc1c65390626196a59c5ef4de149.dl.dropboxusercontent.com)|162.125.65.15|:443... connected.\n",
            "HTTP request sent, awaiting response... 200 OK\n",
            "Length: 124207018 (118M) [application/zip]\n",
            "Saving to: ‘train.csv’\n",
            "\n",
            "train.csv           100%[===================>] 118.45M  19.8MB/s    in 6.2s    \n",
            "\n",
            "2023-10-27 03:37:42 (19.0 MB/s) - ‘train.csv’ saved [124207018/124207018]\n",
            "\n"
          ]
        }
      ]
    },
    {
      "cell_type": "code",
      "execution_count": 6,
      "metadata": {
        "colab": {
          "base_uri": "https://localhost:8080/",
          "height": 206
        },
        "id": "ovphDk4-jNVb",
        "outputId": "66dab0f1-f853-42d0-9709-20bfc08e1085"
      },
      "outputs": [
        {
          "output_type": "execute_result",
          "data": {
            "text/plain": [
              "                        PK\u0003\u0004\u0014  \\\n",
              "82779    103567ab43000bb2f07f   \n",
              "1093669  d657d7bf4d8f9b5b8fcf   \n",
              "1276506  fa287f917cc88300d3f7   \n",
              "85052    10a7fa2c3972e2c3bd7e   \n",
              "520817   65f5fd9ebc1fc23ce7eb   \n",
              "\n",
              "                                             question_text  target  \n",
              "82779    Is there any evidence that the microbiome matt...     0.0  \n",
              "1093669  ? Is it okay to do filmmaking after pursuing b...     0.0  \n",
              "1276506               What are some contradicting sayings?     0.0  \n",
              "85052    Do you think your creative degree helped you g...     0.0  \n",
              "520817            What do you call people who work at IBM?     0.0  "
            ],
            "text/html": [
              "\n",
              "  <div id=\"df-9b7b9b74-30e5-4e5d-9d1d-c2f84ab956dd\" class=\"colab-df-container\">\n",
              "    <div>\n",
              "<style scoped>\n",
              "    .dataframe tbody tr th:only-of-type {\n",
              "        vertical-align: middle;\n",
              "    }\n",
              "\n",
              "    .dataframe tbody tr th {\n",
              "        vertical-align: top;\n",
              "    }\n",
              "\n",
              "    .dataframe thead th {\n",
              "        text-align: right;\n",
              "    }\n",
              "</style>\n",
              "<table border=\"1\" class=\"dataframe\">\n",
              "  <thead>\n",
              "    <tr style=\"text-align: right;\">\n",
              "      <th></th>\n",
              "      <th>PK\u0003\u0004\u0014</th>\n",
              "      <th>question_text</th>\n",
              "      <th>target</th>\n",
              "    </tr>\n",
              "  </thead>\n",
              "  <tbody>\n",
              "    <tr>\n",
              "      <th>82779</th>\n",
              "      <td>103567ab43000bb2f07f</td>\n",
              "      <td>Is there any evidence that the microbiome matt...</td>\n",
              "      <td>0.0</td>\n",
              "    </tr>\n",
              "    <tr>\n",
              "      <th>1093669</th>\n",
              "      <td>d657d7bf4d8f9b5b8fcf</td>\n",
              "      <td>? Is it okay to do filmmaking after pursuing b...</td>\n",
              "      <td>0.0</td>\n",
              "    </tr>\n",
              "    <tr>\n",
              "      <th>1276506</th>\n",
              "      <td>fa287f917cc88300d3f7</td>\n",
              "      <td>What are some contradicting sayings?</td>\n",
              "      <td>0.0</td>\n",
              "    </tr>\n",
              "    <tr>\n",
              "      <th>85052</th>\n",
              "      <td>10a7fa2c3972e2c3bd7e</td>\n",
              "      <td>Do you think your creative degree helped you g...</td>\n",
              "      <td>0.0</td>\n",
              "    </tr>\n",
              "    <tr>\n",
              "      <th>520817</th>\n",
              "      <td>65f5fd9ebc1fc23ce7eb</td>\n",
              "      <td>What do you call people who work at IBM?</td>\n",
              "      <td>0.0</td>\n",
              "    </tr>\n",
              "  </tbody>\n",
              "</table>\n",
              "</div>\n",
              "    <div class=\"colab-df-buttons\">\n",
              "\n",
              "  <div class=\"colab-df-container\">\n",
              "    <button class=\"colab-df-convert\" onclick=\"convertToInteractive('df-9b7b9b74-30e5-4e5d-9d1d-c2f84ab956dd')\"\n",
              "            title=\"Convert this dataframe to an interactive table.\"\n",
              "            style=\"display:none;\">\n",
              "\n",
              "  <svg xmlns=\"http://www.w3.org/2000/svg\" height=\"24px\" viewBox=\"0 -960 960 960\">\n",
              "    <path d=\"M120-120v-720h720v720H120Zm60-500h600v-160H180v160Zm220 220h160v-160H400v160Zm0 220h160v-160H400v160ZM180-400h160v-160H180v160Zm440 0h160v-160H620v160ZM180-180h160v-160H180v160Zm440 0h160v-160H620v160Z\"/>\n",
              "  </svg>\n",
              "    </button>\n",
              "\n",
              "  <style>\n",
              "    .colab-df-container {\n",
              "      display:flex;\n",
              "      gap: 12px;\n",
              "    }\n",
              "\n",
              "    .colab-df-convert {\n",
              "      background-color: #E8F0FE;\n",
              "      border: none;\n",
              "      border-radius: 50%;\n",
              "      cursor: pointer;\n",
              "      display: none;\n",
              "      fill: #1967D2;\n",
              "      height: 32px;\n",
              "      padding: 0 0 0 0;\n",
              "      width: 32px;\n",
              "    }\n",
              "\n",
              "    .colab-df-convert:hover {\n",
              "      background-color: #E2EBFA;\n",
              "      box-shadow: 0px 1px 2px rgba(60, 64, 67, 0.3), 0px 1px 3px 1px rgba(60, 64, 67, 0.15);\n",
              "      fill: #174EA6;\n",
              "    }\n",
              "\n",
              "    .colab-df-buttons div {\n",
              "      margin-bottom: 4px;\n",
              "    }\n",
              "\n",
              "    [theme=dark] .colab-df-convert {\n",
              "      background-color: #3B4455;\n",
              "      fill: #D2E3FC;\n",
              "    }\n",
              "\n",
              "    [theme=dark] .colab-df-convert:hover {\n",
              "      background-color: #434B5C;\n",
              "      box-shadow: 0px 1px 3px 1px rgba(0, 0, 0, 0.15);\n",
              "      filter: drop-shadow(0px 1px 2px rgba(0, 0, 0, 0.3));\n",
              "      fill: #FFFFFF;\n",
              "    }\n",
              "  </style>\n",
              "\n",
              "    <script>\n",
              "      const buttonEl =\n",
              "        document.querySelector('#df-9b7b9b74-30e5-4e5d-9d1d-c2f84ab956dd button.colab-df-convert');\n",
              "      buttonEl.style.display =\n",
              "        google.colab.kernel.accessAllowed ? 'block' : 'none';\n",
              "\n",
              "      async function convertToInteractive(key) {\n",
              "        const element = document.querySelector('#df-9b7b9b74-30e5-4e5d-9d1d-c2f84ab956dd');\n",
              "        const dataTable =\n",
              "          await google.colab.kernel.invokeFunction('convertToInteractive',\n",
              "                                                    [key], {});\n",
              "        if (!dataTable) return;\n",
              "\n",
              "        const docLinkHtml = 'Like what you see? Visit the ' +\n",
              "          '<a target=\"_blank\" href=https://colab.research.google.com/notebooks/data_table.ipynb>data table notebook</a>'\n",
              "          + ' to learn more about interactive tables.';\n",
              "        element.innerHTML = '';\n",
              "        dataTable['output_type'] = 'display_data';\n",
              "        await google.colab.output.renderOutput(dataTable, element);\n",
              "        const docLink = document.createElement('div');\n",
              "        docLink.innerHTML = docLinkHtml;\n",
              "        element.appendChild(docLink);\n",
              "      }\n",
              "    </script>\n",
              "  </div>\n",
              "\n",
              "\n",
              "<div id=\"df-ec6c63fa-fd8f-4e4d-acfb-0dddb2bc2edd\">\n",
              "  <button class=\"colab-df-quickchart\" onclick=\"quickchart('df-ec6c63fa-fd8f-4e4d-acfb-0dddb2bc2edd')\"\n",
              "            title=\"Suggest charts.\"\n",
              "            style=\"display:none;\">\n",
              "\n",
              "<svg xmlns=\"http://www.w3.org/2000/svg\" height=\"24px\"viewBox=\"0 0 24 24\"\n",
              "     width=\"24px\">\n",
              "    <g>\n",
              "        <path d=\"M19 3H5c-1.1 0-2 .9-2 2v14c0 1.1.9 2 2 2h14c1.1 0 2-.9 2-2V5c0-1.1-.9-2-2-2zM9 17H7v-7h2v7zm4 0h-2V7h2v10zm4 0h-2v-4h2v4z\"/>\n",
              "    </g>\n",
              "</svg>\n",
              "  </button>\n",
              "\n",
              "<style>\n",
              "  .colab-df-quickchart {\n",
              "      --bg-color: #E8F0FE;\n",
              "      --fill-color: #1967D2;\n",
              "      --hover-bg-color: #E2EBFA;\n",
              "      --hover-fill-color: #174EA6;\n",
              "      --disabled-fill-color: #AAA;\n",
              "      --disabled-bg-color: #DDD;\n",
              "  }\n",
              "\n",
              "  [theme=dark] .colab-df-quickchart {\n",
              "      --bg-color: #3B4455;\n",
              "      --fill-color: #D2E3FC;\n",
              "      --hover-bg-color: #434B5C;\n",
              "      --hover-fill-color: #FFFFFF;\n",
              "      --disabled-bg-color: #3B4455;\n",
              "      --disabled-fill-color: #666;\n",
              "  }\n",
              "\n",
              "  .colab-df-quickchart {\n",
              "    background-color: var(--bg-color);\n",
              "    border: none;\n",
              "    border-radius: 50%;\n",
              "    cursor: pointer;\n",
              "    display: none;\n",
              "    fill: var(--fill-color);\n",
              "    height: 32px;\n",
              "    padding: 0;\n",
              "    width: 32px;\n",
              "  }\n",
              "\n",
              "  .colab-df-quickchart:hover {\n",
              "    background-color: var(--hover-bg-color);\n",
              "    box-shadow: 0 1px 2px rgba(60, 64, 67, 0.3), 0 1px 3px 1px rgba(60, 64, 67, 0.15);\n",
              "    fill: var(--button-hover-fill-color);\n",
              "  }\n",
              "\n",
              "  .colab-df-quickchart-complete:disabled,\n",
              "  .colab-df-quickchart-complete:disabled:hover {\n",
              "    background-color: var(--disabled-bg-color);\n",
              "    fill: var(--disabled-fill-color);\n",
              "    box-shadow: none;\n",
              "  }\n",
              "\n",
              "  .colab-df-spinner {\n",
              "    border: 2px solid var(--fill-color);\n",
              "    border-color: transparent;\n",
              "    border-bottom-color: var(--fill-color);\n",
              "    animation:\n",
              "      spin 1s steps(1) infinite;\n",
              "  }\n",
              "\n",
              "  @keyframes spin {\n",
              "    0% {\n",
              "      border-color: transparent;\n",
              "      border-bottom-color: var(--fill-color);\n",
              "      border-left-color: var(--fill-color);\n",
              "    }\n",
              "    20% {\n",
              "      border-color: transparent;\n",
              "      border-left-color: var(--fill-color);\n",
              "      border-top-color: var(--fill-color);\n",
              "    }\n",
              "    30% {\n",
              "      border-color: transparent;\n",
              "      border-left-color: var(--fill-color);\n",
              "      border-top-color: var(--fill-color);\n",
              "      border-right-color: var(--fill-color);\n",
              "    }\n",
              "    40% {\n",
              "      border-color: transparent;\n",
              "      border-right-color: var(--fill-color);\n",
              "      border-top-color: var(--fill-color);\n",
              "    }\n",
              "    60% {\n",
              "      border-color: transparent;\n",
              "      border-right-color: var(--fill-color);\n",
              "    }\n",
              "    80% {\n",
              "      border-color: transparent;\n",
              "      border-right-color: var(--fill-color);\n",
              "      border-bottom-color: var(--fill-color);\n",
              "    }\n",
              "    90% {\n",
              "      border-color: transparent;\n",
              "      border-bottom-color: var(--fill-color);\n",
              "    }\n",
              "  }\n",
              "</style>\n",
              "\n",
              "  <script>\n",
              "    async function quickchart(key) {\n",
              "      const quickchartButtonEl =\n",
              "        document.querySelector('#' + key + ' button');\n",
              "      quickchartButtonEl.disabled = true;  // To prevent multiple clicks.\n",
              "      quickchartButtonEl.classList.add('colab-df-spinner');\n",
              "      try {\n",
              "        const charts = await google.colab.kernel.invokeFunction(\n",
              "            'suggestCharts', [key], {});\n",
              "      } catch (error) {\n",
              "        console.error('Error during call to suggestCharts:', error);\n",
              "      }\n",
              "      quickchartButtonEl.classList.remove('colab-df-spinner');\n",
              "      quickchartButtonEl.classList.add('colab-df-quickchart-complete');\n",
              "    }\n",
              "    (() => {\n",
              "      let quickchartButtonEl =\n",
              "        document.querySelector('#df-ec6c63fa-fd8f-4e4d-acfb-0dddb2bc2edd button');\n",
              "      quickchartButtonEl.style.display =\n",
              "        google.colab.kernel.accessAllowed ? 'block' : 'none';\n",
              "    })();\n",
              "  </script>\n",
              "</div>\n",
              "\n",
              "    </div>\n",
              "  </div>\n"
            ]
          },
          "metadata": {},
          "execution_count": 6
        }
      ],
      "source": [
        "# Sample Data\n",
        "data_df = pd.read_csv(\"/content/train.csv\", encoding=\"ISO-8859-1\")\n",
        "data_df.sample(5)"
      ]
    },
    {
      "cell_type": "code",
      "source": [
        "# Data information - Size, NULLS, data types\n",
        "data_df.info()"
      ],
      "metadata": {
        "colab": {
          "base_uri": "https://localhost:8080/"
        },
        "id": "tsXmMaqaSD3-",
        "outputId": "c07a2d6a-a8f5-4e8b-bea0-2a386585b033"
      },
      "execution_count": 7,
      "outputs": [
        {
          "output_type": "stream",
          "name": "stdout",
          "text": [
            "<class 'pandas.core.frame.DataFrame'>\n",
            "RangeIndex: 1306123 entries, 0 to 1306122\n",
            "Data columns (total 3 columns):\n",
            " #   Column         Non-Null Count    Dtype  \n",
            "---  ------         --------------    -----  \n",
            " 0   PK\u0003\u0004\u0014          1306123 non-null  object \n",
            " 1   question_text  1306122 non-null  object \n",
            " 2   target         1306122 non-null  float64\n",
            "dtypes: float64(1), object(2)\n",
            "memory usage: 29.9+ MB\n"
          ]
        }
      ]
    },
    {
      "cell_type": "code",
      "source": [
        "# Drop NULL rows\n",
        "print(data_df[data_df.isna().any(axis=1)])\n",
        "data_df.dropna(inplace=True)"
      ],
      "metadata": {
        "colab": {
          "base_uri": "https://localhost:8080/"
        },
        "id": "XdXfEdhZZmOc",
        "outputId": "fefa8284-d841-4220-c722-b0c474c59a1b"
      },
      "execution_count": 8,
      "outputs": [
        {
          "output_type": "stream",
          "name": "stdout",
          "text": [
            "                           PK\u0003\u0004\u0014 question_text  target\n",
            "1306122  PK\u0007\bÐÞ¾±´>g\u0007´>g\u0007PK\u0001\u0002\u0014\u0003\u0014           NaN     NaN\n"
          ]
        }
      ]
    },
    {
      "cell_type": "code",
      "execution_count": 9,
      "metadata": {
        "colab": {
          "base_uri": "https://localhost:8080/"
        },
        "id": "d7REc3RVjdMI",
        "outputId": "db7b6012-8851-4163-f913-fe117e60570b"
      },
      "outputs": [
        {
          "output_type": "execute_result",
          "data": {
            "text/plain": [
              "0.0    0.93813\n",
              "1.0    0.06187\n",
              "Name: target, dtype: float64"
            ]
          },
          "metadata": {},
          "execution_count": 9
        }
      ],
      "source": [
        "# Class Proportion\n",
        "data_df['target'].value_counts(normalize=True)"
      ]
    },
    {
      "cell_type": "code",
      "execution_count": 10,
      "metadata": {
        "id": "JyNqAqGwlDSj",
        "colab": {
          "base_uri": "https://localhost:8080/"
        },
        "outputId": "b4db36cb-947a-4ad1-a1de-a108cfeb9dc3"
      },
      "outputs": [
        {
          "output_type": "execute_result",
          "data": {
            "text/plain": [
              "count    1306122.00\n",
              "mean          70.75\n",
              "std           38.87\n",
              "min            1.00\n",
              "25%           45.00\n",
              "50%           60.00\n",
              "75%           85.00\n",
              "max         1017.00\n",
              "Name: question_len, dtype: float64"
            ]
          },
          "metadata": {},
          "execution_count": 10
        }
      ],
      "source": [
        "# Calculate length of existing questions to define a well-represented MAX_SEQUENCE_LENGTH for training\n",
        "data_df['question_len'] = data_df['question_text'].apply(lambda x: len(str(x)))\n",
        "data_df['question_len'].describe().round(2)"
      ]
    },
    {
      "cell_type": "code",
      "execution_count": 11,
      "metadata": {
        "colab": {
          "base_uri": "https://localhost:8080/"
        },
        "id": "2ZmokSoqldBD",
        "outputId": "96ef9f66-7515-47e7-ed30-a03d54828333"
      },
      "outputs": [
        {
          "output_type": "execute_result",
          "data": {
            "text/plain": [
              "0.0    0.852703\n",
              "1.0    0.147297\n",
              "Name: target, dtype: float64"
            ]
          },
          "metadata": {},
          "execution_count": 11
        }
      ],
      "source": [
        "# Since 75% of the data is of length 85 but we have a max length of 1017 available, lets check if shorter sentences have a specific SPAM and NOT SPAM behavior\n",
        "data_df[data_df['question_len'] > 100]['target'].value_counts(normalize=True)"
      ]
    },
    {
      "cell_type": "code",
      "source": [
        "# 85% of shorter sentences are NOT SPAM! Therefore we can assume that longer sentences are mostly SPAMS.\n",
        "data_df[data_df['target']==1]['question_len'].describe()"
      ],
      "metadata": {
        "colab": {
          "base_uri": "https://localhost:8080/"
        },
        "id": "ic3z8fpVbJWE",
        "outputId": "eb692d17-0464-4ffb-92c8-a77679182779"
      },
      "execution_count": 12,
      "outputs": [
        {
          "output_type": "execute_result",
          "data": {
            "text/plain": [
              "count    80810.000000\n",
              "mean        98.267851\n",
              "std         55.364399\n",
              "min          1.000000\n",
              "25%         55.000000\n",
              "50%         86.000000\n",
              "75%        130.000000\n",
              "max       1017.000000\n",
              "Name: question_len, dtype: float64"
            ]
          },
          "metadata": {},
          "execution_count": 12
        }
      ]
    },
    {
      "cell_type": "code",
      "source": [
        "# SPAMS have sentences ranging from one word to 1017 words with 75% of them having upto 130 words.\n",
        "# In order represent both sentences well, we can set a MAX_SEQUENCE_LENGTH of 200\n",
        "MAX_SEQUENCE_LENGTH = 200"
      ],
      "metadata": {
        "id": "UTFg1MVgb94r"
      },
      "execution_count": 13,
      "outputs": []
    },
    {
      "cell_type": "code",
      "execution_count": 14,
      "metadata": {
        "id": "pWltsaimkl1-"
      },
      "outputs": [],
      "source": [
        "# Train-Test-Validation Split (70:15:15 stratified by 'target')\n",
        "\n",
        "texts = data_df['question_text']\n",
        "labels = data_df['target']\n",
        "\n",
        "x_train, x_temp, y_train, y_temp = train_test_split(texts, labels, test_size=0.3, stratify=labels, random_state=102)\n",
        "x_val, x_test, y_val, y_test = train_test_split(x_temp, y_temp, test_size=0.5, stratify=y_temp, random_state=102)"
      ]
    },
    {
      "cell_type": "code",
      "execution_count": 15,
      "metadata": {
        "id": "rf5F0ja8ppTR",
        "colab": {
          "base_uri": "https://localhost:8080/"
        },
        "outputId": "3eb57d45-e359-4d5c-91bf-541a998109fc"
      },
      "outputs": [
        {
          "output_type": "stream",
          "name": "stdout",
          "text": [
            "Training Data\n",
            "No.of rows: 914285\n",
            "0.0    0.93813\n",
            "1.0    0.06187\n",
            "Name: target, dtype: float64\n",
            "*************************\n",
            "Testing Data\n",
            "No.of rows: 195919\n",
            "0.0    0.938127\n",
            "1.0    0.061873\n",
            "Name: target, dtype: float64\n",
            "*************************\n",
            "Validation Data\n",
            "No.of rows: 195918\n",
            "0.0    0.938132\n",
            "1.0    0.061868\n",
            "Name: target, dtype: float64\n"
          ]
        }
      ],
      "source": [
        "# Check target distribution in each data group\n",
        "print(\"Training Data\")\n",
        "print(\"No.of rows: {}\".format(len(y_train)))\n",
        "print(y_train.value_counts(normalize=True))\n",
        "print(\"*\"*25)\n",
        "print(\"Testing Data\")\n",
        "print(\"No.of rows: {}\".format(len(y_test)))\n",
        "print(y_test.value_counts(normalize=True))\n",
        "print(\"*\"*25)\n",
        "print(\"Validation Data\")\n",
        "print(\"No.of rows: {}\".format(len(y_val)))\n",
        "print(y_val.value_counts(normalize=True))"
      ]
    },
    {
      "cell_type": "code",
      "execution_count": 16,
      "metadata": {
        "id": "YFu2-AnTrjIP",
        "colab": {
          "base_uri": "https://localhost:8080/"
        },
        "outputId": "b16e7ef4-abf9-4224-a590-fa42b163048a"
      },
      "outputs": [
        {
          "output_type": "execute_result",
          "data": {
            "text/plain": [
              "{0: 0.532975290246911, 1: 8.081434405218591}"
            ]
          },
          "metadata": {},
          "execution_count": 16
        }
      ],
      "source": [
        "# Calculation class weights for training\n",
        "cw = class_weight.compute_class_weight(class_weight=\"balanced\", classes=np.unique(y_train), y=y_train)\n",
        "cw_dict = {i:val for i, val in enumerate(cw)}\n",
        "cw_dict"
      ]
    },
    {
      "cell_type": "code",
      "execution_count": 17,
      "metadata": {
        "colab": {
          "base_uri": "https://localhost:8080/"
        },
        "id": "kxOq1ekqkdIh",
        "outputId": "e7204c8f-7a64-4fd6-99d9-8898b7bb0f69"
      },
      "outputs": [
        {
          "output_type": "stream",
          "name": "stdout",
          "text": [
            "Found 222186 unique tokens.\n",
            "Shape of data tensor: (1306122, 200)\n",
            "Shape of label tensor: (1306122, 2)\n"
          ]
        }
      ],
      "source": [
        "# Text Preprocessing -- Tokenize texts and pad sequences\n",
        "tokenizer = Tokenizer()\n",
        "tokenizer.fit_on_texts(texts)\n",
        "sequences = tokenizer.texts_to_sequences(texts)\n",
        "\n",
        "word_index = tokenizer.word_index\n",
        "print('Found %s unique tokens.' % len(word_index))\n",
        "\n",
        "data = pad_sequences(sequences, maxlen=MAX_SEQUENCE_LENGTH, padding='post')\n",
        "\n",
        "labels = to_categorical(labels, num_classes=2)\n",
        "print('Shape of data tensor:', data.shape)\n",
        "print('Shape of label tensor:', labels.shape)"
      ]
    },
    {
      "cell_type": "code",
      "execution_count": 18,
      "metadata": {
        "colab": {
          "base_uri": "https://localhost:8080/"
        },
        "id": "oHFTbegPseY4",
        "outputId": "0af0291f-e84e-42e7-bd0d-4e7a105324ea"
      },
      "outputs": [
        {
          "output_type": "stream",
          "name": "stdout",
          "text": [
            "Training Data\n",
            "X: (914285, 200), Y: (914285, 2)\n",
            "Validation Data\n",
            "X: (195918, 200), Y: (195918, 2)\n",
            "Testing Data\n",
            "X: (195919, 200), Y: (195919, 2)\n"
          ]
        }
      ],
      "source": [
        "# Train-Test-Validation Data Processing\n",
        "\n",
        "x_train = data[list(x_train.index)]\n",
        "y_train = labels[list(y_train.index)]\n",
        "x_val = data[list(x_val.index)]\n",
        "y_val = labels[list(y_val.index)]\n",
        "x_test = data[list(x_test.index)]\n",
        "y_test = labels[list(y_test.index)]\n",
        "\n",
        "print(\"Training Data\")\n",
        "print(f\"X: {x_train.shape}, Y: {y_train.shape}\")\n",
        "print(\"Validation Data\")\n",
        "print(f\"X: {x_val.shape}, Y: {y_val.shape}\")\n",
        "print(\"Testing Data\")\n",
        "print(f\"X: {x_test.shape}, Y: {y_test.shape}\")"
      ]
    },
    {
      "cell_type": "code",
      "execution_count": 3,
      "metadata": {
        "colab": {
          "base_uri": "https://localhost:8080/"
        },
        "id": "ZjLX54xHsZP7",
        "outputId": "5660ea2a-1e93-4ac1-f774-37ebfb086dbf"
      },
      "outputs": [
        {
          "output_type": "stream",
          "name": "stdout",
          "text": [
            "--2023-10-27 03:33:50--  http://nlp.stanford.edu/data/glove.6B.zip\n",
            "Resolving nlp.stanford.edu (nlp.stanford.edu)... 171.64.67.140\n",
            "Connecting to nlp.stanford.edu (nlp.stanford.edu)|171.64.67.140|:80... connected.\n",
            "HTTP request sent, awaiting response... 302 Found\n",
            "Location: https://nlp.stanford.edu/data/glove.6B.zip [following]\n",
            "--2023-10-27 03:33:50--  https://nlp.stanford.edu/data/glove.6B.zip\n",
            "Connecting to nlp.stanford.edu (nlp.stanford.edu)|171.64.67.140|:443... connected.\n",
            "HTTP request sent, awaiting response... 301 Moved Permanently\n",
            "Location: https://downloads.cs.stanford.edu/nlp/data/glove.6B.zip [following]\n",
            "--2023-10-27 03:33:51--  https://downloads.cs.stanford.edu/nlp/data/glove.6B.zip\n",
            "Resolving downloads.cs.stanford.edu (downloads.cs.stanford.edu)... 171.64.64.22\n",
            "Connecting to downloads.cs.stanford.edu (downloads.cs.stanford.edu)|171.64.64.22|:443... connected.\n",
            "HTTP request sent, awaiting response... 200 OK\n",
            "Length: 862182613 (822M) [application/zip]\n",
            "Saving to: ‘glove.6B.zip’\n",
            "\n",
            "glove.6B.zip        100%[===================>] 822.24M  5.04MB/s    in 2m 41s  \n",
            "\n",
            "2023-10-27 03:36:33 (5.10 MB/s) - ‘glove.6B.zip’ saved [862182613/862182613]\n",
            "\n",
            "Archive:  glove.6B.zip\n",
            "  inflating: glove.6B/glove.6B.50d.txt  \n",
            "  inflating: glove.6B/glove.6B.100d.txt  \n",
            "  inflating: glove.6B/glove.6B.200d.txt  \n",
            "  inflating: glove.6B/glove.6B.300d.txt  \n"
          ]
        }
      ],
      "source": [
        "# Load GloVE Embeddings\n",
        "!wget http://nlp.stanford.edu/data/glove.6B.zip\n",
        "!unzip glove.6B.zip -d glove.6B"
      ]
    },
    {
      "cell_type": "code",
      "execution_count": 19,
      "metadata": {
        "colab": {
          "base_uri": "https://localhost:8080/"
        },
        "id": "N8JKL94GrqiQ",
        "outputId": "4e1654bb-0709-4efe-a8ae-4f168944da3c"
      },
      "outputs": [
        {
          "output_type": "stream",
          "name": "stdout",
          "text": [
            "Found 400000 word vectors.\n"
          ]
        }
      ],
      "source": [
        "# Extract GloVe word vectors along with their corresponding words and store them in a dictionary\n",
        "glove_file = \"glove.6B/glove.6B.200d.txt\"\n",
        "embeddings_index = {}\n",
        "f = open(glove_file)\n",
        "for line in f:\n",
        "    values = line.split()\n",
        "    word = values[0]\n",
        "    coefs = np.asarray(values[1:], dtype='float32')\n",
        "    embeddings_index[word] = coefs\n",
        "f.close()\n",
        "\n",
        "print('Found %s word vectors.' % len(embeddings_index))"
      ]
    },
    {
      "cell_type": "code",
      "execution_count": 20,
      "metadata": {
        "id": "dF-2dq7zrrM_"
      },
      "outputs": [],
      "source": [
        "# Creates an embedding matrix that maps words from the dataset to their corresponding pre-trained word embeddings (if available).\n",
        "# Words not found in the pre-trained embeddings are represented as all-zeros in the matrix.\n",
        "EMBEDDING_DIM = 200\n",
        "embedding_matrix = np.zeros((len(word_index) + 1, EMBEDDING_DIM))\n",
        "for word, i in word_index.items():\n",
        "    embedding_vector = embeddings_index.get(word)\n",
        "    if embedding_vector is not None:\n",
        "      embedding_matrix[i] = embedding_vector"
      ]
    },
    {
      "cell_type": "code",
      "execution_count": 63,
      "metadata": {
        "colab": {
          "base_uri": "https://localhost:8080/"
        },
        "id": "-4In59lgoQ4V",
        "outputId": "45107e6b-0e38-4b3e-a976-b7dea2afdccd"
      },
      "outputs": [
        {
          "output_type": "stream",
          "name": "stdout",
          "text": [
            "Model: \"model_1\"\n",
            "_________________________________________________________________\n",
            " Layer (type)                Output Shape              Param #   \n",
            "=================================================================\n",
            " input_2 (InputLayer)        [(None, 200)]             0         \n",
            "                                                                 \n",
            " embedding_1 (Embedding)     (None, 200, 200)          44437400  \n",
            "                                                                 \n",
            " conv1d_3 (Conv1D)           (None, 196, 128)          128128    \n",
            "                                                                 \n",
            " batch_normalization_3 (Bat  (None, 196, 128)          512       \n",
            " chNormalization)                                                \n",
            "                                                                 \n",
            " conv1d_4 (Conv1D)           (None, 192, 128)          82048     \n",
            "                                                                 \n",
            " batch_normalization_4 (Bat  (None, 192, 128)          512       \n",
            " chNormalization)                                                \n",
            "                                                                 \n",
            " conv1d_5 (Conv1D)           (None, 188, 128)          82048     \n",
            "                                                                 \n",
            " batch_normalization_5 (Bat  (None, 188, 128)          512       \n",
            " chNormalization)                                                \n",
            "                                                                 \n",
            " max_pooling1d_1 (MaxPoolin  (None, 37, 128)           0         \n",
            " g1D)                                                            \n",
            "                                                                 \n",
            " dropout_1 (Dropout)         (None, 37, 128)           0         \n",
            "                                                                 \n",
            " flatten_1 (Flatten)         (None, 4736)              0         \n",
            "                                                                 \n",
            " dense_2 (Dense)             (None, 128)               606336    \n",
            "                                                                 \n",
            " dense_3 (Dense)             (None, 2)                 258       \n",
            "                                                                 \n",
            "=================================================================\n",
            "Total params: 45337754 (172.95 MB)\n",
            "Trainable params: 899586 (3.43 MB)\n",
            "Non-trainable params: 44438168 (169.52 MB)\n",
            "_________________________________________________________________\n"
          ]
        }
      ],
      "source": [
        "# Initialise Model\n",
        "model = []\n",
        "\n",
        "sequence_input = Input(shape=(MAX_SEQUENCE_LENGTH,), dtype='int32')\n",
        "embedding_layer = Embedding(\n",
        "    len(word_index) + 1,\n",
        "    EMBEDDING_DIM,\n",
        "    weights=[embedding_matrix],\n",
        "    input_length=MAX_SEQUENCE_LENGTH,\n",
        "    trainable=False\n",
        ")\n",
        "embedded_sequences = embedding_layer(sequence_input)\n",
        "x = Conv1D(128, 5, activation='relu')(embedded_sequences)\n",
        "x = BatchNormalization()(x)\n",
        "x = Conv1D(128, 5, activation='relu')(x)\n",
        "x = BatchNormalization()(x)\n",
        "x = Conv1D(128, 5, activation='relu')(x)\n",
        "x = BatchNormalization()(x)\n",
        "x = MaxPooling1D(5)(x)\n",
        "x = Dropout(0.3)(x)\n",
        "x = Flatten()(x)\n",
        "x = Dense(128, activation='relu')(x)\n",
        "preds = Dense(2, activation='sigmoid')(x)\n",
        "\n",
        "model = Model(sequence_input, preds)\n",
        "model.compile(loss='binary_crossentropy',metrics=['accuracy'],optimizer='adam')\n",
        "\n",
        "model.summary()"
      ]
    },
    {
      "cell_type": "code",
      "execution_count": 69,
      "metadata": {
        "id": "XSg7znJl1aE3"
      },
      "outputs": [],
      "source": [
        "# Callbacks\n",
        "\n",
        "# Model Checkpoint\n",
        "filepath = \"best_model.hdf5\"\n",
        "checkpoint = ModelCheckpoint(filepath, monitor='val_accuracy', verbose=1, save_best_only=True, mode='max')\n",
        "\n",
        "# Early Stopping\n",
        "early_stopping = EarlyStopping(monitor='val_accuracy',patience=5)"
      ]
    },
    {
      "cell_type": "code",
      "source": [
        "# Train Model\n",
        "callback = [early_stopping, checkpoint]\n",
        "batch_size = 128\n",
        "n_epochs = 20\n",
        "results = model.fit(\n",
        "    x_train,y_train,\n",
        "    batch_size=batch_size,epochs=n_epochs,\n",
        "    verbose=1,\n",
        "    validation_data=(x_val,y_val),\n",
        "    callbacks=callback\n",
        ")"
      ],
      "metadata": {
        "colab": {
          "base_uri": "https://localhost:8080/"
        },
        "id": "Eoyn5ffhkBdU",
        "outputId": "992fbf96-b9ab-46ba-9d17-dfa8b258cd0a"
      },
      "execution_count": 24,
      "outputs": [
        {
          "output_type": "stream",
          "name": "stdout",
          "text": [
            "Epoch 1/20\n",
            "7143/7143 [==============================] - ETA: 0s - loss: 0.1303 - accuracy: 0.9500\n",
            "Epoch 1: val_accuracy improved from -inf to 0.95428, saving model to best_model.hdf5\n"
          ]
        },
        {
          "output_type": "stream",
          "name": "stderr",
          "text": [
            "/usr/local/lib/python3.10/dist-packages/keras/src/engine/training.py:3079: UserWarning: You are saving your model as an HDF5 file via `model.save()`. This file format is considered legacy. We recommend using instead the native Keras format, e.g. `model.save('my_model.keras')`.\n",
            "  saving_api.save_model(\n"
          ]
        },
        {
          "output_type": "stream",
          "name": "stdout",
          "text": [
            "\b\b\b\b\b\b\b\b\b\b\b\b\b\b\b\b\b\b\b\b\b\b\b\b\b\b\b\b\b\b\b\b\b\b\b\b\b\b\b\b\b\b\b\b\b\b\b\b\b\b\b\b\b\b\b\b\b\b\b\b\b\b\b\b\b\b\b\b\b\b\b\b\b\b\b\b\b\b\b\b\b\b\b\b\b\b\r7143/7143 [==============================] - 180s 23ms/step - loss: 0.1303 - accuracy: 0.9500 - val_loss: 0.1182 - val_accuracy: 0.9543\n",
            "Epoch 2/20\n",
            "7142/7143 [============================>.] - ETA: 0s - loss: 0.1148 - accuracy: 0.9549\n",
            "Epoch 2: val_accuracy did not improve from 0.95428\n",
            "7143/7143 [==============================] - 168s 24ms/step - loss: 0.1148 - accuracy: 0.9549 - val_loss: 0.1276 - val_accuracy: 0.9474\n",
            "Epoch 3/20\n",
            "7141/7143 [============================>.] - ETA: 0s - loss: 0.1073 - accuracy: 0.9573\n",
            "Epoch 3: val_accuracy improved from 0.95428 to 0.95515, saving model to best_model.hdf5\n",
            "7143/7143 [==============================] - 170s 24ms/step - loss: 0.1073 - accuracy: 0.9573 - val_loss: 0.1169 - val_accuracy: 0.9552\n",
            "Epoch 4/20\n",
            "7143/7143 [==============================] - ETA: 0s - loss: 0.1007 - accuracy: 0.9597\n",
            "Epoch 4: val_accuracy improved from 0.95515 to 0.95594, saving model to best_model.hdf5\n",
            "7143/7143 [==============================] - 180s 25ms/step - loss: 0.1007 - accuracy: 0.9597 - val_loss: 0.1158 - val_accuracy: 0.9559\n",
            "Epoch 5/20\n",
            "7142/7143 [============================>.] - ETA: 0s - loss: 0.0942 - accuracy: 0.9623\n",
            "Epoch 5: val_accuracy did not improve from 0.95594\n",
            "7143/7143 [==============================] - 169s 24ms/step - loss: 0.0941 - accuracy: 0.9623 - val_loss: 0.1182 - val_accuracy: 0.9552\n",
            "Epoch 6/20\n",
            "7142/7143 [============================>.] - ETA: 0s - loss: 0.0877 - accuracy: 0.9646\n",
            "Epoch 6: val_accuracy did not improve from 0.95594\n",
            "7143/7143 [==============================] - 170s 24ms/step - loss: 0.0877 - accuracy: 0.9646 - val_loss: 0.1235 - val_accuracy: 0.9544\n",
            "Epoch 7/20\n",
            "7141/7143 [============================>.] - ETA: 0s - loss: 0.0812 - accuracy: 0.9673\n",
            "Epoch 7: val_accuracy did not improve from 0.95594\n",
            "7143/7143 [==============================] - 180s 25ms/step - loss: 0.0812 - accuracy: 0.9673 - val_loss: 0.1294 - val_accuracy: 0.9473\n",
            "Epoch 8/20\n",
            "7143/7143 [==============================] - ETA: 0s - loss: 0.0751 - accuracy: 0.9696\n",
            "Epoch 8: val_accuracy did not improve from 0.95594\n",
            "7143/7143 [==============================] - 179s 25ms/step - loss: 0.0751 - accuracy: 0.9696 - val_loss: 0.1259 - val_accuracy: 0.9513\n",
            "Epoch 9/20\n",
            "7142/7143 [============================>.] - ETA: 0s - loss: 0.0693 - accuracy: 0.9721\n",
            "Epoch 9: val_accuracy did not improve from 0.95594\n",
            "7143/7143 [==============================] - 183s 26ms/step - loss: 0.0693 - accuracy: 0.9721 - val_loss: 0.1365 - val_accuracy: 0.9490\n"
          ]
        }
      ]
    },
    {
      "cell_type": "code",
      "source": [
        "# Load Best Model\n",
        "model = load_model(\"/content/best_model.hdf5\")"
      ],
      "metadata": {
        "id": "7-V-cc-JUIjn"
      },
      "execution_count": 26,
      "outputs": []
    },
    {
      "cell_type": "code",
      "source": [
        "# Predict on Test Data\n",
        "prediction = model.predict(x_test)\n",
        "classes_pred = np.argmax(prediction, axis=1)"
      ],
      "metadata": {
        "colab": {
          "base_uri": "https://localhost:8080/"
        },
        "id": "PEqXhnL-Vuio",
        "outputId": "7de3fd3c-1288-43c1-f8c8-7419b7cef628"
      },
      "execution_count": 27,
      "outputs": [
        {
          "output_type": "stream",
          "name": "stdout",
          "text": [
            "6123/6123 [==============================] - 16s 3ms/step\n"
          ]
        }
      ]
    },
    {
      "cell_type": "code",
      "source": [
        "# Test Prediction Scores\n",
        "y_true = list(np.argmax(y_test, axis=1))\n",
        "y_pred = list(classes_pred)\n",
        "precision = precision_score(y_true, y_pred)\n",
        "accuracy = accuracy_score(y_true, y_pred)\n",
        "recall = recall_score(y_true, y_pred)\n",
        "f1 = f1_score(y_true, y_pred)\n",
        "\n",
        "print(f\"Precision: {precision}\")\n",
        "print(f\"Accuracy: {accuracy}\")\n",
        "print(f\"Recall: {recall}\")\n",
        "print(f\"F1 Score: {f1}\")"
      ],
      "metadata": {
        "id": "0XXjgHWUKtGc",
        "colab": {
          "base_uri": "https://localhost:8080/"
        },
        "outputId": "d2b67e50-feb0-4b51-deb3-54795956e0bf"
      },
      "execution_count": 47,
      "outputs": [
        {
          "output_type": "stream",
          "name": "stdout",
          "text": [
            "Precision: 0.6917754714875572\n",
            "Accuracy: 0.955670455647487\n",
            "Recall: 0.5113842600230984\n",
            "F1 Score: 0.5880567281696153\n"
          ]
        }
      ]
    }
  ],
  "metadata": {
    "accelerator": "GPU",
    "colab": {
      "provenance": [],
      "authorship_tag": "ABX9TyNZD4iNQZKQRQpM9wIeffxi",
      "include_colab_link": true
    },
    "kernelspec": {
      "display_name": "Python 3",
      "name": "python3"
    },
    "language_info": {
      "name": "python"
    }
  },
  "nbformat": 4,
  "nbformat_minor": 0
}